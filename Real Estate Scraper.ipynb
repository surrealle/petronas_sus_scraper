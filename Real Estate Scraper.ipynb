{
 "metadata": {
  "language_info": {
   "codemirror_mode": {
    "name": "ipython",
    "version": 3
   },
   "file_extension": ".py",
   "mimetype": "text/x-python",
   "name": "python",
   "nbconvert_exporter": "python",
   "pygments_lexer": "ipython3",
   "version": "3.8.5-final"
  },
  "orig_nbformat": 2,
  "kernelspec": {
   "name": "python3",
   "display_name": "Python 3",
   "language": "python"
  }
 },
 "nbformat": 4,
 "nbformat_minor": 2,
 "cells": [
  {
   "cell_type": "code",
   "execution_count": null,
   "metadata": {},
   "outputs": [],
   "source": [
    "from selenium import webdriver\n",
    "from selenium.webdriver.common.keys import Keys\n",
    "from selenium.webdriver.common.desired_capabilities import DesiredCapabilities\n",
    "from selenium.webdriver.support.ui import Select\n",
    "from selenium.webdriver.common.by import By\n",
    "from selenium.webdriver.support.ui import WebDriverWait\n",
    "from selenium.common.exceptions import NoSuchElementException\n",
    "from selenium.webdriver.support import expected_conditions as EC\n",
    "import numpy as np\n",
    "import pandas as pd\n",
    "import re\n",
    "import time\n",
    "from itertools import zip_longest\n",
    "from bs4 import BeautifulSoup\n",
    "import requests\n",
    "from functools import wraps\n",
    "from requests.exceptions import RequestException\n",
    "from socket import timeout"
   ]
  },
  {
   "cell_type": "code",
   "execution_count": null,
   "metadata": {},
   "outputs": [],
   "source": [
    "driver = webdriver.Chrome('C:\\chromedriver.exe')"
   ]
  },
  {
   "cell_type": "code",
   "execution_count": null,
   "metadata": {},
   "outputs": [],
   "source": [
    "driver.get(\"http://www.ggar.com/index.php?src=directory&view=rets_agents\")\n",
    "driver.implicitly_wait(10)"
   ]
  },
  {
   "cell_type": "code",
   "execution_count": null,
   "metadata": {},
   "outputs": [],
   "source": [
    "def click_element_XPATH(xpath):\n",
    "    driver.find_element(By.XPATH,xpath).click()"
   ]
  },
  {
   "cell_type": "code",
   "execution_count": null,
   "metadata": {},
   "outputs": [],
   "source": [
    "def failed_call(*args, **kwargs):\n",
    "    \"\"\"Deal with a failed call within various web service calls.\n",
    "    Will print to a log file with details of failed call.\n",
    "    \"\"\"\n",
    "    print(\"Failed call: \" + str(args) + str(kwargs))"
   ]
  },
  {
   "cell_type": "code",
   "execution_count": null,
   "metadata": {},
   "outputs": [],
   "source": [
    "#Class instance to use as a retry decorator\n",
    "retry = Retry(times=5, pause=1, retreat=2, cleanup=failed_call,\n",
    "              exceptions=(RequestException, timeout))\n",
    "\n",
    "\n",
    "@retry\n",
    "def scraper_function():\n",
    "    try:\n",
    "        #Go from range 2 - 22\n",
    "        for row in range(2, 22):\n",
    "            # CLicks on the name\n",
    "            time.sleep(1)\n",
    "            click_element_XPATH(f'//*[@id=\"rightside\"]/table/tbody/tr[{row}]/td[1]/a')\n",
    "            \n",
    "            url = driver.current_url\n",
    "            html_content = requests.get(url).text\n",
    "            soup = BeautifulSoup(html_content, \"lxml\")\n",
    "\n",
    "            # Finds the table\n",
    "            contact_table = soup.find(\"table\", attrs={\"class\": \"contactInfo\"})\n",
    "            name = soup.find('div', attrs={\"class\": \"retsDetail\"}).h2.text\n",
    "            realtor_info[name] = {}\n",
    "            # Scrapes all the data in the table\n",
    "            contact_table_data = contact_table.find_all(\"td\")\n",
    "\n",
    "            if len(contact_table_data) == 6:\n",
    "                phone_agency_list = [contact_table_data[1], contact_table_data[5]]\n",
    "                if realtor_info.get(name):\n",
    "                    name = name + '2'\n",
    "                    realtor_info[name] = {}\n",
    "                    for i in phone_agency_list:\n",
    "                        if re.match(r'^\\d+-\\d+-\\d+', i.text):\n",
    "                            realtor_info[name]['phone'] = i.text\n",
    "\n",
    "                        elif re.match(r'^\\w+', i.text):\n",
    "                            realtor_info[name]['agency'] = i.text\n",
    "\n",
    "                        else:\n",
    "                            pass\n",
    "\n",
    "                else:\n",
    "                    for i in phone_agency_list:\n",
    "                        if re.match(r'^\\d+-\\d+-\\d+', i.text):\n",
    "                            realtor_info[name]['phone'] = i.text\n",
    "\n",
    "                        elif re.match(r'^\\w+', i.text):\n",
    "                            realtor_info[name]['agency'] = i.text\n",
    "\n",
    "                        else:\n",
    "                            pass\n",
    "                clean = re.findall(r'([a-zA-Z0-9_\\-.]+)|@',contact_table_data[3].string)\n",
    "                email_cleaned = clean[1] + '@' + clean[3] + '.' + clean[5]\n",
    "                realtor_info[name]['email'] = email_cleaned\n",
    "                time.sleep(1)\n",
    "\n",
    "            elif len(contact_table_data) == 2:\n",
    "                realtor_info[name]['agency'] = contact_table_data[1].text\n",
    "                time.sleep(1)\n",
    "            \n",
    "            else:\n",
    "                realtor_info[name]['agency'] = contact_table_data[3].text\n",
    "                \n",
    "                clean = re.findall(r'([a-zA-Z0-9_\\-.]+)|@',contact_table_data[1].string)\n",
    "                email_cleaned = clean[1] + '@' + clean[3] + '.' + clean[5]\n",
    "                realtor_info[name]['email'] = email_cleaned\n",
    "                time.sleep(1)\n",
    "\n",
    "            # Clicks on the Go Back button\n",
    "            click_element_XPATH('//*[@id=\"rightside\"]/p[2]/a')\n",
    "        \n",
    "        time.sleep(3)\n",
    "        click_element_XPATH('//*[@id=\"rightside\"]/div[3]/div[1]/div[3]/div[3]/a')\n",
    "    \n",
    "    except NoSuchElementException:\n",
    "        pass\n",
    "\n",
    "\n"
   ]
  },
  {
   "cell_type": "code",
   "execution_count": null,
   "metadata": {},
   "outputs": [],
   "source": []
  },
  {
   "cell_type": "code",
   "execution_count": null,
   "metadata": {},
   "outputs": [],
   "source": [
    "realtor_info = {}\n",
    "while len(driver.find_elements(By.XPATH, '//*[@id=\"rightside\"]/div[3]/div[1]/div[3]/div[3]/a'))>0:\n",
    "    scraper_function()\n",
    "\n",
    "scraper_function()\n",
    "\n",
    "compiled_df = pd.DataFrame.from_dict({(i): realtor_info[i] \n",
    "                                      for i in realtor_info.keys()}, orient = 'index')\n",
    "\n",
    "compiled_df.index.names = ['Name']\n",
    "\n",
    "compiled_df.reset_index(inplace = True)\n",
    "\n",
    "compiled_df.to_csv(r'real_estate_info.csv', index=False, header=True)"
   ]
  },
  {
   "cell_type": "code",
   "execution_count": null,
   "metadata": {},
   "outputs": [],
   "source": [
    "class Retry(object):\n",
    "    \"\"\"Decorator that retries a function call a number of times, optionally\n",
    "    with particular exceptions triggering a retry, whereas unlisted exceptions\n",
    "    are raised.\n",
    "    :param pause: Number of seconds to pause before retrying\n",
    "    :param retreat: Factor by which to extend pause time each retry\n",
    "    :param max_pause: Maximum time to pause before retry. Overrides pause times\n",
    "                      calculated by retreat.\n",
    "    :param cleanup: Function to run if all retries fail. Takes the same\n",
    "                    arguments as the decorated function.\n",
    "    \"\"\"\n",
    "    def __init__(self, times, exceptions=(IndexError), pause=1, retreat=1,\n",
    "                 max_pause=None, cleanup=None):\n",
    "        \"\"\"Initiliase all input params\"\"\"\n",
    "        self.times = times\n",
    "        self.exceptions = exceptions\n",
    "        self.pause = pause\n",
    "        self.retreat = retreat\n",
    "        self.max_pause = max_pause or (pause * retreat ** times)\n",
    "        self.cleanup = cleanup\n",
    "\n",
    "    def __call__(self, f):\n",
    "        \"\"\"\n",
    "        A decorator function to retry a function (ie API call, web query) a\n",
    "        number of times, with optional exceptions under which to retry.\n",
    "\n",
    "        Returns results of a cleanup function if all retries fail.\n",
    "        :return: decorator function.\n",
    "        \"\"\"\n",
    "        @wraps(f)\n",
    "        def wrapped_f(*args, **kwargs):\n",
    "            for i in range(self.times):\n",
    "                # Exponential backoff if required and limit to a max pause time\n",
    "                pause = min(self.pause * self.retreat ** i, self.max_pause)\n",
    "                try:\n",
    "                    return f(*args, **kwargs)\n",
    "                except self.exceptions:\n",
    "                    if self.pause is not None:\n",
    "                        time.sleep(pause)\n",
    "                    else:\n",
    "                        pass\n",
    "            if self.cleanup is not None:\n",
    "                return self.cleanup(*args, **kwargs)\n",
    "        return wrapped_f"
   ]
  },
  {
   "cell_type": "code",
   "execution_count": null,
   "metadata": {},
   "outputs": [],
   "source": [
    "driver.quit()"
   ]
  },
  {
   "cell_type": "code",
   "execution_count": null,
   "metadata": {},
   "outputs": [],
   "source": [
    "compiled_df.info()"
   ]
  },
  {
   "cell_type": "code",
   "execution_count": null,
   "metadata": {},
   "outputs": [],
   "source": [
    "compiled_df"
   ]
  },
  {
   "cell_type": "code",
   "execution_count": null,
   "metadata": {},
   "outputs": [],
   "source": []
  }
 ]
}